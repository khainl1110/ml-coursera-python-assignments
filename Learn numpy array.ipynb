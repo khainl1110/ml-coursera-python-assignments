{
 "cells": [
  {
   "cell_type": "code",
   "execution_count": 1,
   "id": "3324d917",
   "metadata": {},
   "outputs": [],
   "source": [
    "import numpy as np"
   ]
  },
  {
   "cell_type": "code",
   "execution_count": 28,
   "id": "2e7066d0",
   "metadata": {},
   "outputs": [
    {
     "data": {
      "text/plain": [
       "array([[1, 2, 3]])"
      ]
     },
     "execution_count": 28,
     "metadata": {},
     "output_type": "execute_result"
    }
   ],
   "source": [
    "a = np.array([[1,2,3]])\n",
    "a"
   ]
  },
  {
   "cell_type": "code",
   "execution_count": 29,
   "id": "22bb3a0d",
   "metadata": {},
   "outputs": [
    {
     "data": {
      "text/plain": [
       "(1, 3)"
      ]
     },
     "execution_count": 29,
     "metadata": {},
     "output_type": "execute_result"
    }
   ],
   "source": [
    "a.shape"
   ]
  },
  {
   "cell_type": "code",
   "execution_count": 30,
   "id": "aa8b3d01",
   "metadata": {},
   "outputs": [
    {
     "data": {
      "text/plain": [
       "array([[1],\n",
       "       [2],\n",
       "       [3]])"
      ]
     },
     "execution_count": 30,
     "metadata": {},
     "output_type": "execute_result"
    }
   ],
   "source": [
    "# tranpose a to (1,3)\n",
    "a = np.transpose(a)\n",
    "a"
   ]
  },
  {
   "cell_type": "code",
   "execution_count": 49,
   "id": "67948585",
   "metadata": {},
   "outputs": [
    {
     "data": {
      "text/plain": [
       "(3, 1)"
      ]
     },
     "execution_count": 49,
     "metadata": {},
     "output_type": "execute_result"
    }
   ],
   "source": [
    "a.shape"
   ]
  },
  {
   "cell_type": "code",
   "execution_count": 5,
   "id": "0e296fdf",
   "metadata": {},
   "outputs": [
    {
     "data": {
      "text/plain": [
       "array([[1, 2],\n",
       "       [3, 4]])"
      ]
     },
     "execution_count": 5,
     "metadata": {},
     "output_type": "execute_result"
    }
   ],
   "source": [
    "b = np.array([[1,2],[3,4]])\n",
    "b"
   ]
  },
  {
   "cell_type": "code",
   "execution_count": 7,
   "id": "2eec520c",
   "metadata": {},
   "outputs": [
    {
     "data": {
      "text/plain": [
       "(2, 2)"
      ]
     },
     "execution_count": 7,
     "metadata": {},
     "output_type": "execute_result"
    }
   ],
   "source": [
    "b.shape"
   ]
  },
  {
   "cell_type": "markdown",
   "id": "026f6a48",
   "metadata": {},
   "source": [
    "## Mimicking cost function"
   ]
  },
  {
   "cell_type": "markdown",
   "id": "f7d093b8",
   "metadata": {},
   "source": [
    "\n",
    "Theta shape is 2 * 1 while X shape is m * 2. Theoretically, X multiplies theta should give m * 1\n",
    "\n"
   ]
  },
  {
   "cell_type": "code",
   "execution_count": 45,
   "id": "0536c3aa",
   "metadata": {},
   "outputs": [
    {
     "data": {
      "text/plain": [
       "(2,)"
      ]
     },
     "execution_count": 45,
     "metadata": {},
     "output_type": "execute_result"
    }
   ],
   "source": [
    "theta = np.array([3,2])\n",
    "theta.shape"
   ]
  },
  {
   "cell_type": "code",
   "execution_count": 46,
   "id": "d54e0dd0",
   "metadata": {},
   "outputs": [
    {
     "data": {
      "text/plain": [
       "(3, 2)"
      ]
     },
     "execution_count": 46,
     "metadata": {},
     "output_type": "execute_result"
    }
   ],
   "source": [
    "X = np.array([[1,3],[2,5],[9,4]])\n",
    "X.shape"
   ]
  },
  {
   "cell_type": "code",
   "execution_count": 47,
   "id": "1b8558af",
   "metadata": {},
   "outputs": [
    {
     "data": {
      "text/plain": [
       "array([[1, 3],\n",
       "       [2, 5],\n",
       "       [9, 4]])"
      ]
     },
     "execution_count": 47,
     "metadata": {},
     "output_type": "execute_result"
    }
   ],
   "source": [
    "X"
   ]
  },
  {
   "cell_type": "code",
   "execution_count": 50,
   "id": "bc99a997",
   "metadata": {},
   "outputs": [
    {
     "data": {
      "text/plain": [
       "array([ 9, 16, 35])"
      ]
     },
     "execution_count": 50,
     "metadata": {},
     "output_type": "execute_result"
    }
   ],
   "source": [
    "hypo = np.dot(X, theta)\n",
    "hypo"
   ]
  },
  {
   "cell_type": "code",
   "execution_count": 52,
   "id": "10473dbf",
   "metadata": {},
   "outputs": [],
   "source": [
    "# another one"
   ]
  },
  {
   "cell_type": "code",
   "execution_count": 68,
   "id": "c5a3cb6d",
   "metadata": {},
   "outputs": [
    {
     "data": {
      "text/plain": [
       "(2,)"
      ]
     },
     "execution_count": 68,
     "metadata": {},
     "output_type": "execute_result"
    }
   ],
   "source": [
    "t = np.array([3,2])\n",
    "t.shape"
   ]
  },
  {
   "cell_type": "code",
   "execution_count": 69,
   "id": "a562339e",
   "metadata": {},
   "outputs": [
    {
     "data": {
      "text/plain": [
       "array([3, 2])"
      ]
     },
     "execution_count": 69,
     "metadata": {},
     "output_type": "execute_result"
    }
   ],
   "source": [
    "t"
   ]
  },
  {
   "cell_type": "code",
   "execution_count": 70,
   "id": "195fb118",
   "metadata": {},
   "outputs": [
    {
     "data": {
      "text/plain": [
       "(1, 2)"
      ]
     },
     "execution_count": 70,
     "metadata": {},
     "output_type": "execute_result"
    }
   ],
   "source": [
    "t =t.reshape((1,2))\n",
    "t.shape"
   ]
  },
  {
   "cell_type": "code",
   "execution_count": 71,
   "id": "114d29e0",
   "metadata": {},
   "outputs": [
    {
     "data": {
      "text/plain": [
       "array([[3, 2]])"
      ]
     },
     "execution_count": 71,
     "metadata": {},
     "output_type": "execute_result"
    }
   ],
   "source": [
    "t"
   ]
  },
  {
   "cell_type": "code",
   "execution_count": 86,
   "id": "4f7eb61b",
   "metadata": {},
   "outputs": [
    {
     "data": {
      "text/plain": [
       "(2,)"
      ]
     },
     "execution_count": 86,
     "metadata": {},
     "output_type": "execute_result"
    }
   ],
   "source": [
    "haha = np.zeros(2)\n",
    "haha.shape"
   ]
  },
  {
   "cell_type": "code",
   "execution_count": 87,
   "id": "12636e83",
   "metadata": {},
   "outputs": [
    {
     "data": {
      "text/plain": [
       "array([0., 0.])"
      ]
     },
     "execution_count": 87,
     "metadata": {},
     "output_type": "execute_result"
    }
   ],
   "source": [
    "haha"
   ]
  },
  {
   "cell_type": "code",
   "execution_count": 89,
   "id": "c1ab9dba",
   "metadata": {},
   "outputs": [
    {
     "data": {
      "text/plain": [
       "(1, 2)"
      ]
     },
     "execution_count": 89,
     "metadata": {},
     "output_type": "execute_result"
    }
   ],
   "source": [
    "haha = haha.reshape((1,haha.size))\n",
    "haha.shape"
   ]
  },
  {
   "cell_type": "code",
   "execution_count": 90,
   "id": "210981b5",
   "metadata": {},
   "outputs": [
    {
     "data": {
      "text/plain": [
       "array([[0., 0.]])"
      ]
     },
     "execution_count": 90,
     "metadata": {},
     "output_type": "execute_result"
    }
   ],
   "source": [
    "haha"
   ]
  },
  {
   "cell_type": "markdown",
   "id": "bd6c2da5",
   "metadata": {},
   "source": [
    "## Implement linear regression by scratch"
   ]
  },
  {
   "cell_type": "code",
   "execution_count": 2,
   "id": "2351d3f3",
   "metadata": {},
   "outputs": [],
   "source": [
    "# used for manipulating directory paths\n",
    "import os\n",
    "\n",
    "# Scientific and vector computation for python\n",
    "import numpy as np\n",
    "\n",
    "# Plotting library\n",
    "from matplotlib import pyplot\n",
    "from mpl_toolkits.mplot3d import Axes3D  # needed to plot 3-D surfaces\n",
    "\n",
    "# tells matplotlib to embed plots within the notebook\n",
    "%matplotlib inline"
   ]
  },
  {
   "cell_type": "code",
   "execution_count": 14,
   "id": "64604403",
   "metadata": {},
   "outputs": [],
   "source": [
    "X = np.array([100,120,130,140,150,110])\n",
    "y = np.array([205,217,230,237,254,216])\n",
    "m = y.size"
   ]
  },
  {
   "cell_type": "code",
   "execution_count": 15,
   "id": "2302f9fa",
   "metadata": {},
   "outputs": [
    {
     "data": {
      "text/plain": [
       "6"
      ]
     },
     "execution_count": 15,
     "metadata": {},
     "output_type": "execute_result"
    }
   ],
   "source": [
    "m"
   ]
  },
  {
   "cell_type": "code",
   "execution_count": 16,
   "id": "80ed0149",
   "metadata": {},
   "outputs": [],
   "source": [
    "def plotData(x, y):\n",
    "    \"\"\"\n",
    "    Plots the data points x and y into a new figure. Plots the data \n",
    "    points and gives the figure axes labels of population and profit.\n",
    "    \n",
    "    Parameters\n",
    "    ----------\n",
    "    x : array_like\n",
    "        Data point values for x-axis.\n",
    "\n",
    "    y : array_like\n",
    "        Data point values for y-axis. Note x and y should have the same size.\n",
    "    \n",
    "    Instructions\n",
    "    ------------\n",
    "    Plot the training data into a figure using the \"figure\" and \"plot\"\n",
    "    functions. Set the axes labels using the \"xlabel\" and \"ylabel\" functions.\n",
    "    Assume the population and revenue data have been passed in as the x\n",
    "    and y arguments of this function.    \n",
    "    \n",
    "    Hint\n",
    "    ----\n",
    "    You can use the 'ro' option with plot to have the markers\n",
    "    appear as red circles. Furthermore, you can make the markers larger by\n",
    "    using plot(..., 'ro', ms=10), where `ms` refers to marker size. You \n",
    "    can also set the marker edge color using the `mec` property.\n",
    "    \"\"\"\n",
    "    fig = pyplot.figure()  # open a new figure\n",
    "    \n",
    "    # ====================== YOUR CODE HERE ======================= \n",
    "    pyplot.plot(x, y, 'ro', ms=10, mec='k')\n",
    "    pyplot.ylabel('Profit in $10,000')\n",
    "    pyplot.xlabel('Population of City in 10,000s')\n",
    "\n",
    "    # =============================================================\n"
   ]
  },
  {
   "cell_type": "code",
   "execution_count": 17,
   "id": "177e3dc2",
   "metadata": {},
   "outputs": [
    {
     "data": {
      "image/png": "[encoded data removed]",
      "text/plain": [
       "<Figure size 432x288 with 1 Axes>"
      ]
     },
     "metadata": {
      "needs_background": "light"
     },
     "output_type": "display_data"
    }
   ],
   "source": [
    "plotData(X, y)"
   ]
  },
  {
   "cell_type": "code",
   "execution_count": 18,
   "id": "18a6e999",
   "metadata": {},
   "outputs": [
    {
     "data": {
      "text/plain": [
       "(6,)"
      ]
     },
     "execution_count": 18,
     "metadata": {},
     "output_type": "execute_result"
    }
   ],
   "source": [
    "X.shape"
   ]
  },
  {
   "cell_type": "code",
   "execution_count": 19,
   "id": "1ed7a832",
   "metadata": {},
   "outputs": [],
   "source": [
    "# Add a column of ones to X. The numpy function stack joins arrays along a given axis. \n",
    "# The first axis (axis=0) refers to rows (training examples) \n",
    "# and second axis (axis=1) refers to columns (features).\n",
    "X = np.stack([np.ones(m), X], axis=1)"
   ]
  },
  {
   "cell_type": "code",
   "execution_count": 20,
   "id": "5704e4c5",
   "metadata": {},
   "outputs": [
    {
     "data": {
      "text/plain": [
       "(6, 2)"
      ]
     },
     "execution_count": 20,
     "metadata": {},
     "output_type": "execute_result"
    }
   ],
   "source": [
    "X.shape"
   ]
  },
  {
   "cell_type": "code",
   "execution_count": 22,
   "id": "a95c3a50",
   "metadata": {},
   "outputs": [
    {
     "data": {
      "text/plain": [
       "array([  1., 140.])"
      ]
     },
     "execution_count": 22,
     "metadata": {},
     "output_type": "execute_result"
    }
   ],
   "source": [
    "X[3]"
   ]
  },
  {
   "cell_type": "markdown",
   "id": "54e96255",
   "metadata": {},
   "source": [
    "## Computing the cost"
   ]
  },
  {
   "cell_type": "code",
   "execution_count": 23,
   "id": "9e1cf6a0",
   "metadata": {},
   "outputs": [],
   "source": [
    "def computeCost(X, y, theta):\n",
    "    \"\"\"\n",
    "    Compute cost for linear regression. Computes the cost of using theta as the\n",
    "    parameter for linear regression to fit the data points in X and y.\n",
    "    \n",
    "    Parameters\n",
    "    ----------\n",
    "    X : array_like\n",
    "        The input dataset of shape (m x n+1), where m is the number of examples,\n",
    "        and n is the number of features. We assume a vector of one's already \n",
    "        appended to the features so we have n+1 columns.\n",
    "    \n",
    "    y : array_like\n",
    "        The values of the function at each data point. This is a vector of\n",
    "        shape (m, ).\n",
    "    \n",
    "    theta : array_like\n",
    "        The parameters for the regression function. This is a vector of \n",
    "        shape (n+1, ).\n",
    "    \n",
    "    Returns\n",
    "    -------\n",
    "    J : float\n",
    "        The value of the regression cost function.\n",
    "    \n",
    "    Instructions\n",
    "    ------------\n",
    "    Compute the cost of a particular choice of theta. \n",
    "    You should set J to the cost.\n",
    "    \"\"\"\n",
    "    \n",
    "    # initialize some useful values\n",
    "    m = y.size  # number of training examples\n",
    "    \n",
    "    # You need to return the following variables correctly\n",
    "    J = 0\n",
    "    \n",
    "    # ====================== YOUR CODE HERE =====================\n",
    "    # theta's shape is 2 * 1 while X shape is m*2\n",
    "    # so it would be X * theta, which results in X*1\n",
    "\n",
    "    hypo = np.dot(X, theta)\n",
    "\n",
    "    diff = np.subtract(hypo, y)\n",
    "    sum = np.sum(diff**2)\n",
    "    J = sum/(2*m)\n",
    "    \n",
    "    # ===========================================================\n",
    "    return J"
   ]
  },
  {
   "cell_type": "code",
   "execution_count": 31,
   "id": "5248985a",
   "metadata": {},
   "outputs": [
    {
     "name": "stdout",
     "output_type": "stream",
     "text": [
      "With theta = [0, 0] \n",
      "Cost computed = 25779.58\n",
      "With theta = [-1, 2]\n",
      "Cost computed = 7.92\n"
     ]
    }
   ],
   "source": [
    "J = computeCost(X, y, theta=np.array([0.0, 0.0]))\n",
    "print('With theta = [0, 0] \\nCost computed = %.2f' % J)\n",
    "\n",
    "# further testing of the cost function\n",
    "J = computeCost(X, y, theta=np.array([100, 1]))\n",
    "print('With theta = [-1, 2]\\nCost computed = %.2f' % J)"
   ]
  },
  {
   "cell_type": "markdown",
   "id": "84247a39",
   "metadata": {},
   "source": [
    "## Gradient descent"
   ]
  },
  {
   "cell_type": "code",
   "execution_count": 27,
   "id": "fe1496a0",
   "metadata": {},
   "outputs": [],
   "source": [
    "def gradientDescent(X, y, theta, alpha, num_iters):\n",
    "    \"\"\"\n",
    "    Performs gradient descent to learn `theta`. Updates theta by taking `num_iters`\n",
    "    gradient steps with learning rate `alpha`.\n",
    "    \n",
    "    Parameters\n",
    "    ----------\n",
    "    X : array_like\n",
    "        The input dataset of shape (m x n+1).\n",
    "    \n",
    "    y : array_like\n",
    "        Value at given features. A vector of shape (m, ).\n",
    "    \n",
    "    theta : array_like\n",
    "        Initial values for the linear regression parameters. \n",
    "        A vector of shape (n+1, ).\n",
    "    \n",
    "    alpha : float\n",
    "        The learning rate.\n",
    "    \n",
    "    num_iters : int\n",
    "        The number of iterations for gradient descent. \n",
    "    \n",
    "    Returns\n",
    "    -------\n",
    "    theta : array_like\n",
    "        The learned linear regression parameters. A vector of shape (n+1, ).\n",
    "    \n",
    "    J_history : list\n",
    "        A python list for the values of the cost function after each iteration.\n",
    "    \n",
    "    Instructions\n",
    "    ------------\n",
    "    Peform a single gradient step on the parameter vector theta.\n",
    "\n",
    "    While debugging, it can be useful to print out the values of \n",
    "    the cost function (computeCost) and gradient here.\n",
    "    \"\"\"\n",
    "    # Initialize some useful values\n",
    "    m = y.shape[0]  # number of training examples\n",
    "    \n",
    "    # make a copy of theta, to avoid changing the original array, since numpy arrays\n",
    "    # are passed by reference to functions\n",
    "    theta = theta.copy()\n",
    "    \n",
    "    J_history = [] # Use a python list to save cost in every iteration\n",
    "    \n",
    "    for i in range(num_iters):\n",
    "        # ==================== YOUR CODE HERE =================================\n",
    "        # slide 36 of Lecture2\n",
    "        \n",
    "        # theta's shape is 2 * 1 while X shape is m*2\n",
    "        # so it would be X * theta, which results in X*1\n",
    "\n",
    "        hypo = np.dot(X, theta)\n",
    "        \n",
    "        diff = np.subtract(hypo, y)\n",
    "        diff = np.multiply(diff, X[:, 0])\n",
    "        # calculate new theta zero \n",
    "    \n",
    "        sigma = np.sum(diff)\n",
    "        deri = sigma/m\n",
    "        nZero = theta[0] - alpha * deri\n",
    "       \n",
    "        # calculate new theta one\n",
    "        diff1 = np.multiply(diff, X[:,1])  # since X now has 2 columns, X[0] is filled with 1\n",
    "        \n",
    "        sigma1 = np.sum(diff1)\n",
    "        deri1 = sigma1/m\n",
    "        nOne = theta[1] - alpha * deri1\n",
    "        \n",
    "        print(nZero, nOne)\n",
    "        \n",
    "        theta[0] = nZero\n",
    "        theta[1] = nOne\n",
    "        \n",
    "        # =====================================================================\n",
    "        \n",
    "        # save the cost J in every iteration\n",
    "        J_history.append(computeCost(X, y, theta))\n",
    "        print(\"Cost \", computeCost(X, y, theta))\n",
    "    \n",
    "    return theta, J_history"
   ]
  },
  {
   "cell_type": "code",
   "execution_count": 53,
   "id": "f8a37a43",
   "metadata": {},
   "outputs": [
    {
     "name": "stdout",
     "output_type": "stream",
     "text": [
      "0.011325 1.429\n",
      "Cost  1189.464171419479\n",
      "0.01371818375 1.7206833854166668\n",
      "Cost  164.94154971331236\n",
      "0.014288226681958333 1.7802204525407987\n",
      "Cost  122.25565062644584\n",
      "0.014486134442244242 1.7923723743103175\n",
      "Cost  120.47698460059503\n",
      "0.014608082796082646 1.7948521547480925\n",
      "Cost  120.40267702712616\n",
      "0.014714526424767263 1.7953576810769267\n",
      "Cost  120.39937982349402\n",
      "0.014817805191715234 1.7954602274297178\n",
      "Cost  120.39904119540076\n",
      "0.014920437880019911 1.7954805184844524\n",
      "Cost  120.39882583373077\n",
      "0.015022938617598083 1.7954840197871589\n",
      "Cost  120.39861560820059\n",
      "0.015125412346997462 1.7954840940068517\n",
      "Cost  120.398405597031\n",
      "0.01522788048883729 1.7954834686992303\n",
      "Cost  120.39819559516137\n",
      "0.015330347415442657 1.7954827006063707\n",
      "Cost  120.39798559404794\n",
      "0.015432814019282069 1.795481903369121\n",
      "Cost  120.39777559333474\n",
      "0.015535280482524099 1.795481100183575\n",
      "Cost  120.39756559300707\n",
      "0.01563774684235263 1.7954802957844642\n",
      "Cost  120.39735559306405\n",
      "0.01574021310635761 1.7954794911382301\n",
      "Cost  120.39714559350598\n",
      "0.015842679276088352 1.7954786864421406\n",
      "Cost  120.39693559433285\n",
      "0.01594514535186117 1.7954778817364614\n",
      "Cost  120.3967255955444\n",
      "0.016047611333740695 1.7954770770294117\n",
      "Cost  120.39651559714052\n",
      "0.016150077221740184 1.795476272322669\n",
      "Cost  120.39630559912162\n",
      "0.016252543015862417 1.7954754676165756\n",
      "Cost  120.39609560148737\n",
      "0.016355008716108024 1.7954746629112017\n",
      "Cost  120.3958856042381\n",
      "0.016457474322477208 1.7954738582065612\n",
      "Cost  120.39567560737352\n",
      "0.01655993983497008 1.7954730535026575\n",
      "Cost  120.39546561089372\n",
      "0.01666240525358672 1.7954722487994907\n",
      "Cost  120.39525561479877\n",
      "0.016764870578327224 1.7954714440970612\n",
      "Cost  120.3950456190884\n",
      "0.016867335809191676 1.7954706393953688\n",
      "Cost  120.39483562376313\n",
      "0.016969800946180162 1.7954698346944136\n",
      "Cost  120.39462562882251\n",
      "0.01707226598929277 1.7954690299941958\n",
      "Cost  120.39441563426662\n",
      "0.01717473093852958 1.7954682252947152\n",
      "Cost  120.39420564009554\n",
      "0.017277195793890684 1.795467420595972\n",
      "Cost  120.3939956463093\n",
      "0.017379660555376163 1.7954666158979657\n",
      "Cost  120.39378565290771\n",
      "0.01748212522298611 1.795465811200697\n",
      "Cost  120.39357565989104\n",
      "0.017584589796720604 1.7954650065041653\n",
      "Cost  120.39336566725918\n",
      "0.017687054276579735 1.7954642018083709\n",
      "Cost  120.39315567501176\n",
      "0.017789518662563588 1.7954633971133136\n",
      "Cost  120.39294568314945\n",
      "0.017891982954672248 1.7954625924189938\n",
      "Cost  120.39273569167183\n",
      "0.017994447152905803 1.7954617877254113\n",
      "Cost  120.39252570057901\n",
      "0.018096911257264335 1.7954609830325658\n",
      "Cost  120.392315709871\n",
      "0.018199375267747935 1.7954601783404576\n",
      "Cost  120.3921057195477\n",
      "0.018301839184356686 1.7954593736490867\n",
      "Cost  120.39189572960925\n",
      "0.01840430300709068 1.795458568958453\n",
      "Cost  120.39168574005555\n",
      "0.018506766735949993 1.7954577642685565\n",
      "Cost  120.3914757508865\n",
      "0.018609230370934718 1.7954569595793972\n",
      "Cost  120.39126576210226\n",
      "0.018711693912044938 1.7954561548909753\n",
      "Cost  120.39105577370287\n",
      "0.01881415735928074 1.7954553502032904\n",
      "Cost  120.39084578568826\n",
      "0.01891662071264221 1.7954545455163429\n",
      "Cost  120.39063579805837\n",
      "0.019019083972129435 1.7954537408301328\n",
      "Cost  120.39042581081323\n",
      "0.0191215471377425 1.7954529361446596\n",
      "Cost  120.39021582395311\n",
      "0.01922401020948149 1.7954521314599239\n",
      "Cost  120.39000583747736\n",
      "0.019326473187346493 1.7954513267759251\n",
      "Cost  120.38979585138664\n",
      "0.019428936071337593 1.795450522092664\n",
      "Cost  120.38958586568062\n",
      "0.019531398861454875 1.7954497174101396\n",
      "Cost  120.38937588035913\n",
      "0.019633861557698428 1.7954489127283528\n",
      "Cost  120.3891658954227\n",
      "0.019736324160068337 1.795448108047303\n",
      "Cost  120.38895591087112\n",
      "0.01983878666856469 1.7954473033669907\n",
      "Cost  120.38874592670412\n",
      "0.01994124908318757 1.7954464986874155\n",
      "Cost  120.38853594292196\n",
      "0.020043711403937063 1.7954456940085775\n",
      "Cost  120.3883259595246\n",
      "0.02014617363081326 1.7954448893304766\n",
      "Cost  120.38811597651174\n",
      "0.02024863576381624 1.795444084653113\n",
      "Cost  120.38790599388398\n",
      "0.020351097802946094 1.7954432799764868\n",
      "Cost  120.38769601164081\n",
      "0.020453559748202902 1.7954424753005975\n",
      "Cost  120.38748602978245\n",
      "0.020556021599586756 1.7954416706254457\n",
      "Cost  120.38727604830872\n",
      "0.020658483357097742 1.795440865951031\n",
      "Cost  120.38706606722003\n",
      "0.020760945020735944 1.7954400612773536\n",
      "Cost  120.38685608651589\n",
      "0.020863406590501447 1.7954392566044135\n",
      "Cost  120.38664610619632\n",
      "0.020965868066394337 1.7954384519322104\n",
      "Cost  120.38643612626191\n",
      "0.0210683294484147 1.7954376472607447\n",
      "Cost  120.38622614671219\n",
      "0.021170790736562625 1.795436842590016\n",
      "Cost  120.38601616754697\n",
      "0.021273251930838198 1.7954360379200247\n",
      "Cost  120.38580618876652\n",
      "0.021375713031241503 1.7954352332507706\n",
      "Cost  120.38559621037116\n",
      "0.021478174037772624 1.7954344285822537\n",
      "Cost  120.38538623236018\n",
      "0.02158063495043165 1.795433623914474\n",
      "Cost  120.38517625473408\n",
      "0.021683095769218667 1.7954328192474316\n",
      "Cost  120.3849662774927\n",
      "0.02178555649413376 1.7954320145811262\n",
      "Cost  120.38475630063614\n",
      "0.021888017125177014 1.7954312099155583\n",
      "Cost  120.38454632416426\n",
      "0.021990477662348514 1.7954304052507275\n",
      "Cost  120.38433634807738\n",
      "0.02209293810564835 1.795429600586634\n",
      "Cost  120.38412637237485\n",
      "0.022195398455076606 1.7954287959232775\n",
      "Cost  120.38391639705753\n",
      "0.02229785871063337 1.7954279912606583\n",
      "Cost  120.3837064221247\n",
      "0.022400318872318723 1.7954271865987763\n",
      "Cost  120.38349644757646\n",
      "0.022502778940132754 1.7954263819376315\n",
      "Cost  120.38328647341318\n",
      "0.02260523891407555 1.795425577277224\n",
      "Cost  120.38307649963451\n",
      "0.022707698794147198 1.7954247726175536\n",
      "Cost  120.38286652624085\n",
      "0.02281015858034778 1.7954239679586206\n",
      "Cost  120.38265655323158\n",
      "0.022912618272677383 1.7954231633004245\n",
      "Cost  120.3824465806074\n",
      "0.023015077871136096 1.7954223586429658\n",
      "Cost  120.38223660836776\n",
      "0.023117537375724004 1.7954215539862444\n",
      "Cost  120.38202663651269\n",
      "0.023219996786441193 1.79542074933026\n",
      "Cost  120.3818166650426\n",
      "0.023322456103287745 1.7954199446750128\n",
      "Cost  120.38160669395732\n",
      "0.02342491532626375 1.7954191400205028\n",
      "Cost  120.38139672325654\n",
      "0.023527374455369295 1.7954183353667301\n",
      "Cost  120.3811867529406\n",
      "0.023629833490604463 1.7954175307136948\n",
      "Cost  120.38097678300954\n",
      "0.02373229243196934 1.7954167260613965\n",
      "Cost  120.38076681346304\n",
      "0.023834751279464016 1.7954159214098353\n",
      "Cost  120.3805568443015\n",
      "0.02393721003308857 1.7954151167590113\n",
      "Cost  120.38034687552431\n",
      "0.024039668692843096 1.7954143121089245\n",
      "Cost  120.3801369071323\n",
      "0.024142127258727674 1.7954135074595752\n",
      "Cost  120.37992693912481\n",
      "0.024244585730742393 1.7954127028109628\n",
      "Cost  120.37971697150203\n",
      "0.02434704410888734 1.7954118981630878\n",
      "Cost  120.37950700426391\n",
      "0.024449502393162594 1.79541109351595\n",
      "Cost  120.3792970374107\n",
      "0.024551960583568247 1.7954102888695491\n",
      "Cost  120.37908707094198\n",
      "0.024654418680104387 1.7954094842238857\n",
      "Cost  120.37887710485829\n",
      "0.024756876682771097 1.7954086795789592\n",
      "Cost  120.37866713915922\n",
      "0.024859334591568465 1.7954078749347702\n",
      "Cost  120.37845717384477\n",
      "0.024961792406496573 1.7954070702913183\n",
      "Cost  120.37824720891523\n",
      "0.025064250127555508 1.7954062656486036\n",
      "Cost  120.37803724437045\n",
      "0.025166707754745356 1.7954054610066261\n",
      "Cost  120.37782728020996\n",
      "0.025269165288066206 1.7954046563653856\n",
      "Cost  120.37761731643457\n",
      "0.025371622727518143 1.7954038517248825\n",
      "Cost  120.377407353044\n",
      "0.02547408007310125 1.7954030470851166\n",
      "Cost  120.37719739003772\n",
      "0.025576537324815615 1.7954022424460878\n",
      "Cost  120.37698742741658\n",
      "0.025678994482661324 1.7954014378077963\n",
      "Cost  120.3767774651801\n",
      "0.025781451546638464 1.7954006331702417\n",
      "Cost  120.37656750332825\n",
      "0.02588390851674712 1.7953998285334245\n",
      "Cost  120.3763575418609\n",
      "0.02598636539298738 1.7953990238973445\n",
      "Cost  120.37614758077878\n",
      "0.026088822175359325 1.7953982192620017\n",
      "Cost  120.37593762008123\n",
      "0.026191278863863045 1.795397414627396\n",
      "Cost  120.37572765976803\n",
      "0.026293735458498627 1.7953966099935275\n",
      "Cost  120.37551769983986\n",
      "0.026396191959266155 1.7953958053603962\n",
      "Cost  120.37530774029642\n",
      "0.026498648366165715 1.7953950007280022\n",
      "Cost  120.37509778113765\n",
      "0.026601104679197393 1.7953941960963453\n",
      "Cost  120.37488782236345\n",
      "0.026703560898361275 1.7953933914654256\n",
      "Cost  120.37467786397416\n",
      "0.026806017023657445 1.795392586835243\n",
      "Cost  120.3744679059696\n",
      "0.026908473055085994 1.7953917822057976\n",
      "Cost  120.37425794834974\n",
      "0.027010928992647003 1.7953909775770895\n",
      "Cost  120.3740479911145\n",
      "0.02711338483634056 1.7953901729491184\n",
      "Cost  120.37383803426394\n",
      "0.027215840586166752 1.7953893683218844\n",
      "Cost  120.37362807779817\n",
      "0.027318296242125666 1.795388563695388\n",
      "Cost  120.37341812171708\n",
      "0.027420751804217384 1.7953877590696283\n",
      "Cost  120.37320816602097\n",
      "0.027523207272441997 1.795386954444606\n",
      "Cost  120.37299821070921\n",
      "0.02762566264679959 1.795386149820321\n",
      "Cost  120.37278825578232\n",
      "0.02772811792729024 1.795385345196773\n",
      "Cost  120.37257830124004\n",
      "0.027830573113914046 1.7953845405739621\n",
      "Cost  120.37236834708263\n",
      "0.02793302820667109 1.7953837359518887\n",
      "Cost  120.37215839330997\n",
      "0.02803548320556145 1.7953829313305523\n",
      "Cost  120.37194843992165\n",
      "0.02813793811058522 1.795382126709953\n",
      "Cost  120.37173848691833\n",
      "0.028240392921742484 1.795381322090091\n",
      "Cost  120.3715285342998\n",
      "0.028342847639033327 1.795380517470966\n",
      "Cost  120.37131858206567\n",
      "0.02844530226245784 1.7953797128525784\n",
      "Cost  120.37110863021634\n",
      "0.0285477567920161 1.7953789082349276\n",
      "Cost  120.37089867875177\n",
      "0.0286502112277082 1.7953781036180143\n",
      "Cost  120.37068872767202\n",
      "0.028752665569534226 1.7953772990018382\n",
      "Cost  120.37047877697675\n",
      "0.028855119817494262 1.795376494386399\n",
      "Cost  120.37026882666616\n",
      "0.028957573971588393 1.795375689771697\n",
      "Cost  120.37005887674069\n",
      "0.029060028031816707 1.7953748851577322\n",
      "Cost  120.36984892719966\n",
      "0.02916248199817929 1.7953740805445049\n",
      "Cost  120.36963897804333\n",
      "0.029264935870676224 1.7953732759320145\n",
      "Cost  120.36942902927159\n",
      "0.0293673896493076 1.7953724713202612\n",
      "Cost  120.36921908088466\n",
      "0.029469843334073504 1.7953716667092452\n",
      "Cost  120.36900913288257\n",
      "0.029572296924974015 1.7953708620989661\n",
      "Cost  120.36879918526483\n",
      "0.02967475042200923 1.7953700574894245\n",
      "Cost  120.36858923803214\n",
      "0.029777203825179226 1.79536925288062\n",
      "Cost  120.36837929118396\n",
      "0.02987965713448409 1.7953684482725525\n",
      "Cost  120.36816934472046\n",
      "0.029982110349923916 1.7953676436652224\n",
      "Cost  120.36795939864157\n",
      "0.03008456347149878 1.7953668390586293\n",
      "Cost  120.36774945294773\n",
      "0.030187016499208772 1.7953660344527733\n",
      "Cost  120.36753950763823\n",
      "0.030289469433053978 1.7953652298476546\n",
      "Cost  120.3673295627135\n",
      "0.030391922273034482 1.7953644252432728\n",
      "Cost  120.36711961817365\n",
      "0.030494375019150376 1.7953636206396284\n",
      "Cost  120.3669096740183\n",
      "0.03059682767140174 1.795362816036721\n",
      "Cost  120.36669973024762\n",
      "0.030699280229788663 1.795362011434551\n",
      "Cost  120.36648978686179\n",
      "0.030801732694311232 1.795361206833118\n",
      "Cost  120.36627984386064\n",
      "0.03090418506496953 1.795360402232422\n",
      "Cost  120.36606990124402\n",
      "0.031006637341763645 1.7953595976324634\n",
      "Cost  120.36585995901201\n",
      "0.03110908952469366 1.795358793033242\n",
      "Cost  120.36565001716481\n",
      "0.03121154161375966 1.7953579884347575\n",
      "Cost  120.36544007570218\n",
      "0.03131399360896174 1.7953571838370104\n",
      "Cost  120.36523013462477\n",
      "0.03141644551029998 1.7953563792400002\n",
      "Cost  120.3650201939315\n",
      "0.031518897317774464 1.7953555746437273\n",
      "Cost  120.36481025362303\n",
      "0.03162134903138528 1.7953547700481918\n",
      "Cost  120.36460031369943\n",
      "0.03172380065113251 1.795353965453393\n",
      "Cost  120.36439037416045\n",
      "0.03182625217701625 1.7953531608593316\n",
      "Cost  120.36418043500589\n",
      "0.031928703609036574 1.7953523562660072\n",
      "Cost  120.36397049623618\n",
      "0.03203115494719358 1.79535155167342\n",
      "Cost  120.3637605578512\n",
      "0.03213360619148734 1.79535074708157\n",
      "Cost  120.36355061985091\n",
      "0.03223605734191796 1.795349942490457\n",
      "Cost  120.36334068223503\n",
      "0.0323385083984855 1.7953491379000814\n",
      "Cost  120.36313074500418\n",
      "0.03244095936119007 1.7953483333104427\n",
      "Cost  120.36292080815781\n",
      "0.032543410230031745 1.7953475287215412\n",
      "Cost  120.36271087169628\n",
      "0.03264586100501061 1.795346724133377\n",
      "Cost  120.36250093561915\n",
      "0.032748311686126755 1.7953459195459498\n",
      "Cost  120.36229099992697\n",
      "0.03285076227338026 1.7953451149592599\n",
      "Cost  120.36208106461957\n",
      "0.03295321276677122 1.7953443103733069\n",
      "Cost  120.36187112969651\n",
      "0.03305566316629971 1.795343505788091\n",
      "Cost  120.36166119515838\n",
      "0.033158113471965824 1.7953427012036125\n",
      "Cost  120.36145126100477\n",
      "0.033260563683769645 1.795341896619871\n",
      "Cost  120.36124132723575\n",
      "0.033363013801711264 1.7953410920368669\n",
      "Cost  120.36103139385166\n",
      "0.03346546382579076 1.7953402874545996\n",
      "Cost  120.3608214608521\n",
      "0.033567913756008226 1.7953394828730695\n",
      "Cost  120.36061152823727\n",
      "0.03367036359236374 1.7953386782922767\n",
      "Cost  120.36040159600692\n",
      "0.0337728133348574 1.795337873712221\n",
      "Cost  120.36019166416132\n",
      "0.03387526298348927 1.7953370691329023\n",
      "Cost  120.35998173270049\n",
      "0.03397771253825946 1.7953362645543207\n",
      "Cost  120.35977180162429\n",
      "0.03408016199916804 1.7953354599764764\n",
      "Cost  120.35956187093264\n",
      "0.0341826113662151 1.7953346553993692\n",
      "Cost  120.35935194062581\n",
      "0.03428506063940073 1.795333850822999\n",
      "Cost  120.35914201070348\n",
      "0.03438750981872502 1.795333046247366\n",
      "Cost  120.35893208116617\n",
      "0.03448995890418805 1.7953322416724702\n",
      "Cost  120.3587221520133\n",
      "0.034592407895789906 1.7953314370983116\n",
      "Cost  120.35851222324497\n",
      "0.03469485679353067 1.79533063252489\n",
      "Cost  120.35830229486135\n",
      "0.03479730559741043 1.7953298279522054\n",
      "Cost  120.35809236686244\n",
      "0.034899754307429275 1.7953290233802581\n",
      "Cost  120.35788243924829\n",
      "0.03500220292358729 1.795328218809048\n",
      "Cost  120.35767251201851\n",
      "0.035104651445884566 1.795327414238575\n",
      "Cost  120.35746258517365\n",
      "0.03520709987432118 1.795326609668839\n",
      "Cost  120.35725265871325\n",
      "0.035309548208897215 1.7953258050998402\n",
      "Cost  120.35704273263775\n",
      "0.03541199644961277 1.7953250005315784\n",
      "Cost  120.35683280694683\n",
      "0.03551444459646792 1.7953241959640538\n",
      "Cost  120.35662288164042\n",
      "0.035616892649462766 1.7953233913972664\n",
      "Cost  120.35641295671871\n",
      "0.035719340608597376 1.7953225868312161\n",
      "Cost  120.35620303218174\n",
      "0.035821788473871845 1.7953217822659029\n",
      "Cost  120.35599310802972\n",
      "0.035924236245286255 1.7953209777013268\n",
      "Cost  120.35578318426212\n",
      "0.0360266839228407 1.795320173137488\n",
      "Cost  120.35557326087898\n",
      "0.03612913150653525 1.795319368574386\n",
      "Cost  120.35536333788048\n",
      "0.036231578996370015 1.7953185640120213\n",
      "Cost  120.35515341526677\n",
      "0.036334026392345065 1.7953177594503937\n",
      "Cost  120.35494349303771\n",
      "0.036436473694460486 1.7953169548895032\n",
      "Cost  120.35473357119326\n",
      "0.03653892090271637 1.79531615032935\n",
      "Cost  120.35452364973348\n",
      "0.0366413680171128 1.7953153457699336\n",
      "Cost  120.35431372865854\n",
      "0.036743815037649855 1.7953145412112546\n",
      "Cost  120.354103807968\n",
      "0.03684626196432763 1.7953137366533125\n",
      "Cost  120.3538938876623\n",
      "0.036948708797146214 1.7953129320961076\n",
      "Cost  120.35368396774085\n",
      "0.03705115553610568 1.7953121275396398\n",
      "Cost  120.35347404820435\n",
      "0.03715360218120613 1.795311322983909\n",
      "Cost  120.35326412905262\n",
      "0.03725604873244764 1.7953105184289155\n",
      "Cost  120.3530542102853\n",
      "0.037358495189830296 1.7953097138746592\n",
      "Cost  120.35284429190266\n",
      "0.037460941553354186 1.7953089093211398\n",
      "Cost  120.35263437390488\n",
      "0.03756338782301939 1.7953081047683577\n",
      "Cost  120.35242445629142\n",
      "0.037665833998826004 1.7953073002163125\n",
      "Cost  120.35221453906273\n",
      "0.03776828008077411 1.7953064956650044\n",
      "Cost  120.35200462221887\n",
      "0.0378707260688638 1.7953056911144336\n",
      "Cost  120.35179470575947\n",
      "0.037973171963095145 1.7953048865645997\n",
      "Cost  120.35158478968454\n",
      "0.03807561776346824 1.795304082015503\n",
      "Cost  120.35137487399463\n",
      "0.03817806346998317 1.7953032774671436\n",
      "Cost  120.35116495868886\n",
      "0.038280509082640024 1.795302472919521\n",
      "Cost  120.35095504376828\n",
      "0.03838295460143888 1.7953016683726357\n",
      "Cost  120.350745129232\n",
      "0.03848540002637984 1.7953008638264873\n",
      "Cost  120.35053521508053\n",
      "0.03858784535746297 1.7953000592810762\n",
      "Cost  120.3503253013137\n",
      "0.03869029059468837 1.7952992547364022\n",
      "Cost  120.3501153879311\n",
      "0.038792735738056125 1.7952984501924651\n",
      "Cost  120.34990547493366\n",
      "0.03889518078756631 1.7952976456492655\n",
      "Cost  120.34969556232072\n",
      "0.03899762574321902 1.7952968411068027\n",
      "Cost  120.34948565009209\n",
      "0.039100070605014345 1.7952960365650772\n",
      "Cost  120.34927573824835\n",
      "0.039202515372952364 1.7952952320240887\n",
      "Cost  120.34906582678929\n",
      "0.03930496004703316 1.7952944274838372\n",
      "Cost  120.34885591571486\n",
      "0.03940740462725683 1.7952936229443228\n",
      "Cost  120.34864600502488\n",
      "0.03950984911362345 1.7952928184055454\n",
      "Cost  120.34843609471984\n",
      "0.03961229350613311 1.7952920138675055\n",
      "Cost  120.34822618479912\n",
      "0.03971473780478589 1.7952912093302023\n",
      "Cost  120.34801627526302\n",
      "Theta found by gradient descent: 0.0397, 1.7953\n",
      "Expected theta values (approximately): [-3.6303, 1.1664]\n"
     ]
    }
   ],
   "source": [
    "# initialize fitting parameters\n",
    "theta = np.zeros(2)\n",
    "\n",
    "# some gradient descent settings\n",
    "iterations = 250\n",
    "alpha = 0.00005\n",
    "\n",
    "theta, J_history = gradientDescent(X ,y, theta, alpha, iterations)\n",
    "print('Theta found by gradient descent: {:.4f}, {:.4f}'.format(*theta))\n",
    "print('Expected theta values (approximately): [-3.6303, 1.1664]')"
   ]
  },
  {
   "cell_type": "code",
   "execution_count": 52,
   "id": "c00ba433",
   "metadata": {},
   "outputs": [
    {
     "data": {
      "image/png": "[encoded data removed]",
      "text/plain": [
       "<Figure size 432x288 with 1 Axes>"
      ]
     },
     "metadata": {
      "needs_background": "light"
     },
     "output_type": "display_data"
    }
   ],
   "source": [
    "# plot the linear fit\n",
    "plotData(X[:, 1], y)\n",
    "pyplot.plot(X[:, 1], np.dot(X, theta), '-')\n",
    "pyplot.legend(['Training data', 'Linear regression']);"
   ]
  },
  {
   "cell_type": "code",
   "execution_count": 50,
   "id": "69d25561",
   "metadata": {},
   "outputs": [
    {
     "data": {
      "text/plain": [
       "0.11652153542135305"
      ]
     },
     "execution_count": 50,
     "metadata": {},
     "output_type": "execute_result"
    }
   ],
   "source": [
    "theta[0]"
   ]
  },
  {
   "cell_type": "code",
   "execution_count": 30,
   "id": "ebeb4cff",
   "metadata": {},
   "outputs": [],
   "source": [
    "from flask import jsonify\n",
    "import numpy as np\n",
    "\n",
    "def computeCost(X, y, theta):\n",
    "    \"\"\"\n",
    "    Compute cost for linear regression. Computes the cost of using theta as the\n",
    "    parameter for linear regression to fit the data points in X and y.\n",
    "    \n",
    "    Parameters\n",
    "    ----------\n",
    "    X : array_like\n",
    "        The input dataset of shape (m x n+1), where m is the number of examples,\n",
    "        and n is the number of features. We assume a vector of one's already \n",
    "        appended to the features so we have n+1 columns.\n",
    "    \n",
    "    y : array_like\n",
    "        The values of the function at each data point. This is a vector of\n",
    "        shape (m, ).\n",
    "    \n",
    "    theta : array_like\n",
    "        The parameters for the regression function. This is a vector of \n",
    "        shape (n+1, ).\n",
    "    \n",
    "    Returns\n",
    "    -------\n",
    "    J : float\n",
    "        The value of the regression cost function.\n",
    "    \n",
    "    Instructions\n",
    "    ------------\n",
    "    Compute the cost of a particular choice of theta. \n",
    "    You should set J to the cost.\n",
    "    \"\"\"\n",
    "    \n",
    "    # initialize some useful values\n",
    "    m = y.size  # number of training examples\n",
    "    \n",
    "    # You need to return the following variables correctly\n",
    "    J = 0\n",
    "    \n",
    "    # ====================== YOUR CODE HERE =====================\n",
    "    # theta's shape is 2 * 1 while X shape is m*2\n",
    "    # so it would be X * theta, which results in X*1\n",
    "\n",
    "    hypo = np.dot(X, theta)\n",
    "\n",
    "    diff = np.subtract(hypo, y)\n",
    "    sum = np.sum(diff**2)\n",
    "    J = sum/(2*m)\n",
    "    \n",
    "    # ===========================================================\n",
    "    return J\n",
    "\n",
    "def gradientDescent(X, y, theta, alpha, num_iters):\n",
    "    \"\"\"\n",
    "    Performs gradient descent to learn `theta`. Updates theta by taking `num_iters`\n",
    "    gradient steps with learning rate `alpha`.\n",
    "    \n",
    "    Parameters\n",
    "    ----------\n",
    "    X : array_like\n",
    "        The input dataset of shape (m x n+1).\n",
    "    \n",
    "    y : array_like\n",
    "        Value at given features. A vector of shape (m, ).\n",
    "    \n",
    "    theta : array_like\n",
    "        Initial values for the linear regression parameters. \n",
    "        A vector of shape (n+1, ).\n",
    "    \n",
    "    alpha : float\n",
    "        The learning rate.\n",
    "    \n",
    "    num_iters : int\n",
    "        The number of iterations for gradient descent. \n",
    "    \n",
    "    Returns\n",
    "    -------\n",
    "    theta : array_like\n",
    "        The learned linear regression parameters. A vector of shape (n+1, ).\n",
    "    \n",
    "    J_history : list\n",
    "        A python list for the values of the cost function after each iteration.\n",
    "    \n",
    "    Instructions\n",
    "    ------------\n",
    "    Peform a single gradient step on the parameter vector theta.\n",
    "\n",
    "    While debugging, it can be useful to print out the values of \n",
    "    the cost function (computeCost) and gradient here.\n",
    "    \"\"\"\n",
    "    # Initialize some useful values\n",
    "    m = y.shape[0]  # number of training examples\n",
    "    \n",
    "    # make a copy of theta, to avoid changing the original array, since numpy arrays\n",
    "    # are passed by reference to functions\n",
    "    theta = theta.copy()\n",
    "    \n",
    "    for i in range(num_iters):\n",
    "        # ==================== YOUR CODE HERE =================================\n",
    "        # slide 36 of Lecture2\n",
    "        \n",
    "        # theta's shape is 2 * 1 while X shape is m*2\n",
    "        # so it would be X * theta, which results in X*1\n",
    "\n",
    "        hypo = np.dot(X, theta)\n",
    "        \n",
    "        diff = np.subtract(hypo, y)\n",
    "        diff = np.multiply(diff, X[:, 0])\n",
    "        # calculate new theta zero \n",
    "    \n",
    "        sigma = np.sum(diff)\n",
    "        deri = sigma/m\n",
    "        nZero = theta[0] - alpha * deri\n",
    "       \n",
    "        # calculate new theta one\n",
    "        diff1 = np.multiply(diff, X[:,1])  # since X now has 2 columns, X[0] is filled with 1\n",
    "        \n",
    "        sigma1 = np.sum(diff1)\n",
    "        deri1 = sigma1/m\n",
    "        nOne = theta[1] - alpha * deri1\n",
    "        \n",
    "        theta[0] = nZero\n",
    "        theta[1] = nOne\n",
    "        \n",
    "        # =====================================================================\n",
    "        \n",
    "    \n",
    "    return theta\n",
    "\n",
    "def hello_world():\n",
    "    \"\"\"Responds to any HTTP request.\n",
    "    Args:\n",
    "        request (flask.Request): HTTP request object.\n",
    "    Returns:\n",
    "        The response text or any set of values that can be turned into a\n",
    "        Response object using\n",
    "        `make_response <https://flask.palletsprojects.com/en/1.1.x/api/#flask.Flask.make_response>`.\n",
    "    \"\"\"\n",
    "\n",
    "    X = np.array([100,120,130,140,150,110])\n",
    "    y = np.array([205,217,230,237,254,216]) \n",
    "    # Add a column of ones to X. The numpy function stack joins arrays along a given axis. \n",
    "    # The first axis (axis=0) refers to rows (training examples) \n",
    "    # and second axis (axis=1) refers to columns (features).\n",
    "    m = y.size\n",
    "    X = np.stack([np.ones(m), X], axis=1)\n",
    "\n",
    "    # initialize fitting parameters\n",
    "    theta = np.zeros(2)\n",
    "\n",
    "    # some gradient descent settings\n",
    "    iterations = 500\n",
    "    alpha = 0.00005\n",
    "\n",
    "    theta = gradientDescent(X ,y, theta, alpha, iterations)\n",
    "\n",
    "    data = {\"x0\": theta[0], \"x1\": theta[1]}\n",
    "\n",
    "    return data\n",
    "    # if request.args and 'message' in request.args:\n",
    "    #     return jsonify(data)\n",
    "    # elif request_json and 'message' in request_json:\n",
    "    #     return jsonify(data)\n",
    "    # else:\n",
    "    #     return jsonify(data)"
   ]
  },
  {
   "cell_type": "code",
   "execution_count": 31,
   "id": "67feb474",
   "metadata": {},
   "outputs": [],
   "source": [
    "a = hello_world()"
   ]
  },
  {
   "cell_type": "code",
   "execution_count": 32,
   "id": "deadc348",
   "metadata": {},
   "outputs": [
    {
     "data": {
      "text/plain": [
       "{'x0': 0.06532286793515386, 'x1': 1.7950900981290703}"
      ]
     },
     "execution_count": 32,
     "metadata": {},
     "output_type": "execute_result"
    }
   ],
   "source": [
    "a"
   ]
  },
  {
   "cell_type": "code",
   "execution_count": 3,
   "id": "5c740be1",
   "metadata": {},
   "outputs": [
    {
     "name": "stdout",
     "output_type": "stream",
     "text": [
      "haha 1\n",
      "haha 2\n",
      "haha 3\n"
     ]
    }
   ],
   "source": [
    "for i in range(1,4):\n",
    "    print(\"haha\",i)"
   ]
  },
  {
   "cell_type": "code",
   "execution_count": null,
   "id": "bec12017",
   "metadata": {},
   "outputs": [],
   "source": []
  }
 ],
 "metadata": {
  "kernelspec": {
   "display_name": "Python 3 (ipykernel)",
   "language": "python",
   "name": "python3"
  },
  "language_info": {
   "codemirror_mode": {
    "name": "ipython",
    "version": 3
   },
   "file_extension": ".py",
   "mimetype": "text/x-python",
   "name": "python",
   "nbconvert_exporter": "python",
   "pygments_lexer": "ipython3",
   "version": "3.9.7"
  }
 },
 "nbformat": 4,
 "nbformat_minor": 5
}
